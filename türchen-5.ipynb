{
 "cells": [
  {
   "cell_type": "code",
   "execution_count": 130,
   "metadata": {},
   "outputs": [
    {
     "data": {
      "text/plain": [
       "{1: ['[B]', '[P]', '[N]', '[Q]', '[H]', '[D]', '[R]', '[T]'],\n",
       " 2: ['[W]', '[G]', '[B]', '[J]', '[T]', '[V]'],\n",
       " 3: ['[N]', '[R]', '[H]', '[D]', '[S]', '[V]', '[M]', '[Q]'],\n",
       " 4: ['[P]', '[Z]', '[N]', '[M]', '[C]'],\n",
       " 5: ['[D]', '[Z]', '[B]'],\n",
       " 6: ['[V]', '[C]', '[W]', '[Z]'],\n",
       " 7: ['[G]', '[Z]', '[N]', '[C]', '[V]', '[Q]', '[L]', '[S]'],\n",
       " 8: ['[L]', '[G]', '[J]', '[M]', '[D]', '[N]', '[V]'],\n",
       " 9: ['[T]', '[P]', '[M]', '[F]', '[Z]', '[C]', '[G]']}"
      ]
     },
     "execution_count": 130,
     "metadata": {},
     "output_type": "execute_result"
    }
   ],
   "source": [
    "\"\"\"PART ONE\"\"\"\n",
    "\n",
    "# open the input file and replace /n with commas\n",
    "with open(\"input5-1.txt\", \"r\") as full_assignments:\n",
    "        string = full_assignments.read().replace(\"    \", \",,\").replace(\"   \", \",\").replace(\" \", \"\").replace(\"\\n\", \";\").replace(\",,\", \",[]\").replace(\"][\", \"],[\")\n",
    "\n",
    "list = string.split(\";\")\n",
    "stack_matrix = {}\n",
    "stack_nr = 0\n",
    "advance = 0\n",
    "while advance <= 8: \n",
    "    stack = []\n",
    "    for line in list:\n",
    "        for item in line.split(\",\")[advance:advance+1]:\n",
    "            # slightly hacky/lame, but try to weed out the numbers and empty brackets so only actual crates remain + assign stack key/ie number\n",
    "            if \"[\" not in item:\n",
    "                stack_key = advance + 1\n",
    "            elif \"[]\" in item:\n",
    "                pass\n",
    "            else:\n",
    "                stack.append(item)\n",
    "    \n",
    "    # reverse to have the original order of the stacks; last entry = last crate on stack\n",
    "    stack.reverse()\n",
    "    stack_matrix[stack_key] = stack\n",
    "    advance += 1\n",
    "\n",
    "stack_matrix\n",
    "\n",
    "# want to have seperate lists in the end, so i can easily pop a crate and append it somewhere else\n",
    "# seperate lists = check\n",
    "# now need to apply the orders in input5-2.txt - prob best to make some functions sigh\n",
    "\n",
    "\n",
    "\n"
   ]
  },
  {
   "cell_type": "code",
   "execution_count": 131,
   "metadata": {},
   "outputs": [],
   "source": [
    "#while #something happens:\n",
    "# read line of input52; move -> while counter, from -> int(move_from), to -> int(move_to)\n",
    "\n",
    "with open(\"input5-2.txt\", \"r\") as orders:\n",
    "        string = orders.read().replace(\"move \", \"\").replace(\"from \", \"\").replace(\"to \", \"\").replace(\"\\n\", \",\")\n",
    "\n",
    "for order in string.split(\",\"):\n",
    "    how_many, move_from, move_to = order.split(\" \")\n",
    "\n",
    "    how_many_int = int(how_many)\n",
    "    move_from_int = int(move_from)\n",
    "    move_to_int = int(move_to)\n",
    "# falsch verstanden: how_many ist nicht step by step, sondern die anzahl die AUF EINMAL bewegt wird... duh. also range mit [:-how_many] oder iwie so?\n",
    "    while how_many_int >= 0:\n",
    "        if len(stack_matrix[move_from_int]) > 0:\n",
    "            moving_crate = stack_matrix[move_from_int].pop()\n",
    "            stack_matrix[move_to_int].append(moving_crate)\n",
    "        how_many_int -= 1\n"
   ]
  },
  {
   "cell_type": "code",
   "execution_count": 132,
   "metadata": {},
   "outputs": [
    {
     "name": "stdout",
     "output_type": "stream",
     "text": [
      "JLPTGDVNN\n"
     ]
    }
   ],
   "source": [
    "message = \"\"\n",
    "for key in stack_matrix:\n",
    "    moving_crate = stack_matrix[key].pop()\n",
    "    message += moving_crate[1]\n",
    "\n",
    "print(message)"
   ]
  },
  {
   "cell_type": "code",
   "execution_count": 113,
   "metadata": {},
   "outputs": [
    {
     "name": "stdout",
     "output_type": "stream",
     "text": [
      "['[P]', '[Z]', '[N]', '[M]', '[C]']\n",
      "[C]\n"
     ]
    },
    {
     "data": {
      "text/plain": [
       "['[V]', '[C]', '[W]', '[Z]', '[C]']"
      ]
     },
     "execution_count": 113,
     "metadata": {},
     "output_type": "execute_result"
    }
   ],
   "source": [
    "move_from = 4\n",
    "move_to = 6\n",
    "\n",
    "print(stack_matrix[move_from])\n",
    "moving_crate = stack_matrix[move_from].pop()\n",
    "stack_matrix[move_to]\n",
    "print(moving_crate)\n",
    "\n",
    "stack_matrix[move_to]\n",
    "stack_matrix[move_to].append(moving_crate)\n",
    "stack_matrix[move_to]"
   ]
  },
  {
   "cell_type": "code",
   "execution_count": null,
   "metadata": {},
   "outputs": [],
   "source": [
    "\"\"\"PART TWO\"\"\"\n"
   ]
  }
 ],
 "metadata": {
  "kernelspec": {
   "display_name": "Python 3.9.5 ('avhnetwork')",
   "language": "python",
   "name": "python3"
  },
  "language_info": {
   "codemirror_mode": {
    "name": "ipython",
    "version": 3
   },
   "file_extension": ".py",
   "mimetype": "text/x-python",
   "name": "python",
   "nbconvert_exporter": "python",
   "pygments_lexer": "ipython3",
   "version": "3.9.5"
  },
  "orig_nbformat": 4,
  "vscode": {
   "interpreter": {
    "hash": "ab25ca4bb9851ba646d2c4d5a9c9e46a5d1ca129dbaac50f82d1131e71826b68"
   }
  }
 },
 "nbformat": 4,
 "nbformat_minor": 2
}
