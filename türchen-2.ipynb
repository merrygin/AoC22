{
 "cells": [
  {
   "cell_type": "code",
   "execution_count": 20,
   "metadata": {},
   "outputs": [
    {
     "name": "stdout",
     "output_type": "stream",
     "text": [
      "12772\n"
     ]
    }
   ],
   "source": [
    "\"\"\"PART ONE\"\"\"\n",
    "# open the input file and replace /n with commas\n",
    "with open(\"input2.txt\", \"r\") as rps_strategy:\n",
    "        string=rps_strategy.read().replace(\"\\n\", \",\")\n",
    "\n",
    "score = []\n",
    "\n",
    "# iterate over matches (letter pairs) and assign scores according\n",
    "# to match rules\n",
    "for match in string.split(\",\"):\n",
    "    count = 0\n",
    "\n",
    "    # AX = rock vs rock = draw = \n",
    "    # BX = paper vs rock = lose = \n",
    "    # ZX = scissors + rock = win = \n",
    "    if \"X\" in match:\n",
    "        if \"A\" in match:\n",
    "            count = 4\n",
    "        elif \"B\" in match:\n",
    "            count = 1\n",
    "        elif \"C\" in match:\n",
    "            count = 7\n",
    "\n",
    "    elif \"Y\" in match:\n",
    "        # AY = rock vs paper = win = 8\n",
    "        if \"A\" in match:\n",
    "            count = 8\n",
    "        # BY = paper vs paper = draw\n",
    "        elif \"B\" in match:\n",
    "            count = 5\n",
    "        \n",
    "        # CY = scissors + paper = lose\n",
    "        elif \"C\" in match:\n",
    "            count = 2\n",
    "\n",
    "    # AZ = rock + scissors = lose = 3\n",
    "    # BZ = paper + scissors = win = 9\n",
    "    # CZ = scissors + scissors = draw = 6\n",
    "    elif \"Z\" in match:\n",
    "        if \"A\" in match:\n",
    "            count = 3\n",
    "        elif \"B\" in match:\n",
    "            count = 9\n",
    "        elif \"C\" in match:\n",
    "            count = 6\n",
    "    score.append(count)\n",
    "\n",
    "print(sum(score))\n",
    "    \n",
    "\n",
    "\n",
    "\n",
    "\n",
    "        \n",
    "\n"
   ]
  },
  {
   "cell_type": "code",
   "execution_count": 21,
   "metadata": {},
   "outputs": [
    {
     "name": "stdout",
     "output_type": "stream",
     "text": [
      "11618\n"
     ]
    }
   ],
   "source": [
    "\"\"\"PART TWO\"\"\"\n",
    "# open the input file and replace /n with commas\n",
    "with open(\"input2.txt\", \"r\") as rps_strategy:\n",
    "        string=rps_strategy.read().replace(\"\\n\", \",\")\n",
    "\n",
    "score = []\n",
    "\n",
    "# iterate over matches (letter pairs) and assign scores according\n",
    "# to match rules\n",
    "for match in string.split(\",\"):\n",
    "    count = 0\n",
    "\n",
    "    # AX = scissors(rock) + lose\n",
    "    # BX = rock(paper) + lose \n",
    "    # ZX = paper(scissors) + lose \n",
    "    if \"X\" in match:\n",
    "        if \"A\" in match:\n",
    "            count = 3\n",
    "        elif \"B\" in match:\n",
    "            count = 1\n",
    "        elif \"C\" in match:\n",
    "            count = 2\n",
    "\n",
    "    elif \"Y\" in match:\n",
    "        # AY = rock(rock) + draw \n",
    "        if \"A\" in match:\n",
    "            count = 4\n",
    "        # BY = paper(paper) + draw\n",
    "        elif \"B\" in match:\n",
    "            count = 5\n",
    "        # CY = scissors(scissors) + draw\n",
    "        elif \"C\" in match:\n",
    "            count = 6\n",
    "\n",
    "    # AZ = paper(rock) + win \n",
    "    # BZ = scissors(paper) + win\n",
    "    # CZ = rock(scissors) + win\n",
    "    elif \"Z\" in match:\n",
    "        if \"A\" in match:\n",
    "            count = 8\n",
    "        elif \"B\" in match:\n",
    "            count = 9\n",
    "        elif \"C\" in match:\n",
    "            count = 7\n",
    "    score.append(count)\n",
    "\n",
    "print(sum(score))\n",
    "    \n",
    "\n",
    "\n",
    "\n",
    "\n",
    "        \n",
    "\n"
   ]
  }
 ],
 "metadata": {
  "kernelspec": {
   "display_name": "Python 3",
   "language": "python",
   "name": "python3"
  },
  "language_info": {
   "codemirror_mode": {
    "name": "ipython",
    "version": 3
   },
   "file_extension": ".py",
   "mimetype": "text/x-python",
   "name": "python",
   "nbconvert_exporter": "python",
   "pygments_lexer": "ipython3",
   "version": "3.9.12"
  },
  "orig_nbformat": 4,
  "vscode": {
   "interpreter": {
    "hash": "aee8b7b246df8f9039afb4144a1f6fd8d2ca17a180786b69acc140d282b71a49"
   }
  }
 },
 "nbformat": 4,
 "nbformat_minor": 2
}
