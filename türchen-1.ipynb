{
 "cells": [
  {
   "cell_type": "code",
   "execution_count": 4,
   "metadata": {},
   "outputs": [
    {
     "name": "stdout",
     "output_type": "stream",
     "text": [
      "64929\n"
     ]
    }
   ],
   "source": [
    "\"\"\"PART ONE\"\"\"\n",
    "\n",
    "# open the input file and replace /n with commas\n",
    "with open(\"input1.txt\", \"r\") as aoc1file:\n",
    "        string=aoc1file.read().replace(\"\\n\", \",\")\n",
    "\n",
    "calories_list = []\n",
    "highest_calories = 0\n",
    "\n",
    "# iterate through calories, splitting at comma to have an empty string\n",
    "# as marker at which the program wipes the list\n",
    "for calorie in string.split(\",\"):\n",
    "    if calorie == \"\":\n",
    "        total = sum(calories_list)\n",
    "        # compare the packages total calories with highest recorded calorie\n",
    "        # if higher, replace the calorie highscore\n",
    "        if highest_calories < total:\n",
    "            highest_calories = total\n",
    "        calories_list = []\n",
    "\n",
    "    else:\n",
    "        calories_list.append(int(calorie))\n",
    "\n",
    "print(highest_calories)"
   ]
  },
  {
   "cell_type": "code",
   "execution_count": 19,
   "metadata": {},
   "outputs": [
    {
     "name": "stdout",
     "output_type": "stream",
     "text": [
      "193697\n"
     ]
    }
   ],
   "source": [
    "\"\"\"PART TWO\"\"\"\n",
    "\n",
    "# open the input file and replace /n with commas\n",
    "with open(\"input1.txt\", \"r\") as aoc1file:\n",
    "        string=aoc1file.read().replace(\"\\n\", \",\")\n",
    "\n",
    "calories_list = []\n",
    "highest_calories = []\n",
    "\n",
    "# iterate through calories, splitting at comma to have an empty string\n",
    "# as marker at which the program wipes the list\n",
    "for calorie in string.split(\",\"):\n",
    "    if calorie == \"\":\n",
    "        total = sum(calories_list)\n",
    "\n",
    "        # compare the packages total calories with highest recorded calorie\n",
    "        # if higher, replace the calorie highscore\n",
    "        if len(highest_calories) < 3:\n",
    "            highest_calories.append(int(total))\n",
    "\n",
    "        elif len(highest_calories) >= 3:\n",
    "            if min(highest_calories) < total:\n",
    "                highest_calories.remove(min(highest_calories))\n",
    "                highest_calories.append(int(total))\n",
    "\n",
    "        calories_list = []\n",
    "\n",
    "    else:\n",
    "        calories_list.append(int(calorie))\n",
    "print(sum(highest_calories))"
   ]
  }
 ],
 "metadata": {
  "kernelspec": {
   "display_name": "Python 3",
   "language": "python",
   "name": "python3"
  },
  "language_info": {
   "codemirror_mode": {
    "name": "ipython",
    "version": 3
   },
   "file_extension": ".py",
   "mimetype": "text/x-python",
   "name": "python",
   "nbconvert_exporter": "python",
   "pygments_lexer": "ipython3",
   "version": "3.9.12"
  },
  "orig_nbformat": 4,
  "vscode": {
   "interpreter": {
    "hash": "aee8b7b246df8f9039afb4144a1f6fd8d2ca17a180786b69acc140d282b71a49"
   }
  }
 },
 "nbformat": 4,
 "nbformat_minor": 2
}
