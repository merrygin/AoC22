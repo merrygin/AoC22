{
 "cells": [
  {
   "cell_type": "code",
   "execution_count": 17,
   "metadata": {},
   "outputs": [
    {
     "name": "stdout",
     "output_type": "stream",
     "text": [
      "54-59\n",
      "54 59\n",
      "17 62\n"
     ]
    }
   ],
   "source": [
    "\"\"\"PART ONE\"\"\"\n",
    "\n",
    "# open the input file and replace /n with commas\n",
    "with open(\"input4.txt\", \"r\") as full_assignments:\n",
    "        string=full_assignments.read().replace(\"\\n\", \";\")\n",
    "\n",
    "fully_contained = 0\n",
    "\n",
    "for assignment_pair in string.split(\";\"):\n",
    "    print(assignment_pair.split(\",\")[0])\n",
    "    for assignment in assignment_pair.split(\",\")[0]:\n",
    "        start1, end1 = assignment.split(\"-\")\n",
    "        print(start1, end1)\n",
    "    for assignment2 in assignment_pair.split(\",\")[1]:\n",
    "        start2, end2 = \n",
    "    break\n",
    "    \n",
    "\n",
    "\n",
    "\n",
    "# wenn anfangsindex grö0er-gleich und endindex kleinergleich, dann full overlap\n"
   ]
  }
 ],
 "metadata": {
  "kernelspec": {
   "display_name": "Python 3",
   "language": "python",
   "name": "python3"
  },
  "language_info": {
   "codemirror_mode": {
    "name": "ipython",
    "version": 3
   },
   "file_extension": ".py",
   "mimetype": "text/x-python",
   "name": "python",
   "nbconvert_exporter": "python",
   "pygments_lexer": "ipython3",
   "version": "3.9.12"
  },
  "orig_nbformat": 4,
  "vscode": {
   "interpreter": {
    "hash": "aee8b7b246df8f9039afb4144a1f6fd8d2ca17a180786b69acc140d282b71a49"
   }
  }
 },
 "nbformat": 4,
 "nbformat_minor": 2
}
