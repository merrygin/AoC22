{
 "cells": [
  {
   "cell_type": "code",
   "execution_count": 14,
   "metadata": {},
   "outputs": [
    {
     "name": "stdout",
     "output_type": "stream",
     "text": [
      "8105\n"
     ]
    }
   ],
   "source": [
    "\"\"\"PART ONE\"\"\"\n",
    "from string import ascii_lowercase as asl, ascii_uppercase as asu\n",
    "\n",
    "# open the input file and replace /n with commas\n",
    "with open(\"input3.txt\", \"r\") as rucksack_compartments:\n",
    "        string=rucksack_compartments.read().replace(\"\\n\", \",\")\n",
    "\n",
    "def split_list(a_list):\n",
    "    half = len(a_list)//2\n",
    "    return a_list[:half], a_list[half:]\n",
    "\n",
    "priorities = []\n",
    "# pritority count is index + 1 for lowercase, index + 1 + 26 for uppercase\n",
    "\n",
    "# splitting rucksacks in halves, ie, compartments\n",
    "for rucksack in string.split(\",\"):\n",
    "    comp_A, comp_B = split_list(rucksack)\n",
    "    # see if item type is found in both compartments\n",
    "    for item in comp_A:\n",
    "        if item in comp_B:\n",
    "            # compare with index in lowe/uppercase alphabet; assign\n",
    "            # score according to index + modifier\n",
    "            if item in asl:\n",
    "                priority = asl.index(item) + 1\n",
    "                priorities.append(int(priority))\n",
    "            elif item in asu:\n",
    "                priority = asu.index(item) + 27\n",
    "                priorities.append(int(priority))\n",
    "            break\n",
    "\n",
    "print(sum(priorities))\n",
    "\n",
    "\n",
    "\n",
    "\n"
   ]
  },
  {
   "cell_type": "code",
   "execution_count": 28,
   "metadata": {},
   "outputs": [
    {
     "data": {
      "text/plain": [
       "2363"
      ]
     },
     "execution_count": 28,
     "metadata": {},
     "output_type": "execute_result"
    }
   ],
   "source": [
    "\"\"\"PART TWO\"\"\"\n",
    "from string import ascii_lowercase as asl, ascii_uppercase as asu\n",
    "\n",
    "# open the input file and replace /n with commas\n",
    "with open(\"input3.txt\", \"r\") as rucksack_compartments:\n",
    "        string=rucksack_compartments.read().replace(\"\\n\", \",\")\n",
    "\n",
    "rucksacks = string.split(\",\")\n",
    "group_rucksacks = list()\n",
    "group_size = 3\n",
    "team_priorities = []\n",
    "\n",
    "# chopping the rucksacks into pairs of three with list indexing\n",
    "for rucksack in range(0, len(rucksacks), group_size):\n",
    "        group_rucksacks.append(rucksacks[rucksack:rucksack+group_size])\n",
    "\n",
    "# checking which item of rucksack #1 is also in #2 and #3\n",
    "for team_rucksacks in group_rucksacks:\n",
    "    for item in team_rucksacks[0]:\n",
    "        if (item in team_rucksacks[1] and item in team_rucksacks[2]) == True:\n",
    "                # comparing index in ascii alphabet with scoring/priority\n",
    "                if item in asl:\n",
    "                        priority = asl.index(item) + 1\n",
    "                        team_priorities.append(int(priority))\n",
    "                elif item in asu:\n",
    "                        priority = asu.index(item) + 27\n",
    "                        team_priorities.append(int(priority)) \n",
    "                break\n",
    "\n",
    "sum(team_priorities)\n"
   ]
  }
 ],
 "metadata": {
  "kernelspec": {
   "display_name": "Python 3",
   "language": "python",
   "name": "python3"
  },
  "language_info": {
   "codemirror_mode": {
    "name": "ipython",
    "version": 3
   },
   "file_extension": ".py",
   "mimetype": "text/x-python",
   "name": "python",
   "nbconvert_exporter": "python",
   "pygments_lexer": "ipython3",
   "version": "3.9.12"
  },
  "orig_nbformat": 4,
  "vscode": {
   "interpreter": {
    "hash": "aee8b7b246df8f9039afb4144a1f6fd8d2ca17a180786b69acc140d282b71a49"
   }
  }
 },
 "nbformat": 4,
 "nbformat_minor": 2
}
